{
  "cells": [
    {
      "cell_type": "markdown",
      "metadata": {
        "id": "ovpZyIhNIgoq"
      },
      "source": [
        "# Text generation with an RNN"
      ]
    },
    {
      "cell_type": "markdown",
      "metadata": {
        "id": "srXC6pLGLwS6"
      },
      "source": [
        "## Setup"
      ]
    },
    {
      "cell_type": "markdown",
      "metadata": {
        "id": "WGyKZj3bzf9p"
      },
      "source": [
        "### Import TensorFlow and other libraries"
      ]
    },
    {
      "cell_type": "code",
      "execution_count": 1,
      "metadata": {
        "id": "yG_n40gFzf9s"
      },
      "outputs": [],
      "source": [
        "import tensorflow as tf\n",
        "\n",
        "import numpy as np\n",
        "import os\n",
        "import time"
      ]
    },
    {
      "cell_type": "markdown",
      "metadata": {
        "id": "EHDoRoc5PKWz"
      },
      "source": [
        "### Download the Shakespeare dataset\n",
        "\n",
        "Change the following line to run this code on your own data."
      ]
    },
    {
      "cell_type": "code",
      "execution_count": 2,
      "metadata": {
        "id": "pD_55cOxLkAb",
        "colab": {
          "base_uri": "https://localhost:8080/"
        },
        "outputId": "e116b98b-7f8e-40c8-daa6-cee02e4b4070"
      },
      "outputs": [
        {
          "output_type": "stream",
          "name": "stdout",
          "text": [
            "Downloading data from https://storage.googleapis.com/download.tensorflow.org/data/shakespeare.txt\n",
            "1115394/1115394 [==============================] - 1s 1us/step\n"
          ]
        }
      ],
      "source": [
        "path_to_file = tf.keras.utils.get_file('shakespeare.txt', 'https://storage.googleapis.com/download.tensorflow.org/data/shakespeare.txt')"
      ]
    },
    {
      "cell_type": "markdown",
      "metadata": {
        "id": "UHjdCjDuSvX_"
      },
      "source": [
        "### Read the data\n",
        "\n",
        "First, look in the text:"
      ]
    },
    {
      "cell_type": "code",
      "execution_count": 3,
      "metadata": {
        "id": "aavnuByVymwK",
        "colab": {
          "base_uri": "https://localhost:8080/"
        },
        "outputId": "81aa887a-78a7-46c1-816f-65977d263409"
      },
      "outputs": [
        {
          "output_type": "stream",
          "name": "stdout",
          "text": [
            "Length of text: 1115394 characters\n"
          ]
        }
      ],
      "source": [
        "# Read, then decode for py2 compat.\n",
        "text = open(path_to_file, 'rb').read().decode(encoding='utf-8')\n",
        "# length of text is the number of characters in it\n",
        "print(f'Length of text: {len(text)} characters')"
      ]
    },
    {
      "cell_type": "code",
      "execution_count": 4,
      "metadata": {
        "id": "Duhg9NrUymwO",
        "colab": {
          "base_uri": "https://localhost:8080/"
        },
        "outputId": "9d7e229c-206e-4b7c-a8a1-c3cdbfde7125"
      },
      "outputs": [
        {
          "output_type": "stream",
          "name": "stdout",
          "text": [
            "First Citizen:\n",
            "Before we proceed any further, hear me speak.\n",
            "\n",
            "All:\n",
            "Speak, speak.\n",
            "\n",
            "First Citizen:\n",
            "You are all resolved rather to die than to famish?\n",
            "\n",
            "All:\n",
            "Resolved. resolved.\n",
            "\n",
            "First Citizen:\n",
            "First, you know Caius Marcius is chief enemy to the people.\n",
            "\n"
          ]
        }
      ],
      "source": [
        "# Take a look at the first 250 characters in text\n",
        "print(text[:250])"
      ]
    },
    {
      "cell_type": "code",
      "execution_count": 5,
      "metadata": {
        "id": "IlCgQBRVymwR",
        "colab": {
          "base_uri": "https://localhost:8080/"
        },
        "outputId": "fe882da2-612e-44ad-ed83-3c6d5d7d65ce"
      },
      "outputs": [
        {
          "output_type": "stream",
          "name": "stdout",
          "text": [
            "65 unique characters\n"
          ]
        }
      ],
      "source": [
        "# The unique characters in the file\n",
        "vocab = sorted(set(text))\n",
        "print(f'{len(vocab)} unique characters')"
      ]
    },
    {
      "cell_type": "markdown",
      "metadata": {
        "id": "rNnrKn_lL-IJ"
      },
      "source": [
        "## Process the text"
      ]
    },
    {
      "cell_type": "markdown",
      "metadata": {
        "id": "LFjSVAlWzf-N"
      },
      "source": [
        "### Vectorize the text\n",
        "\n",
        "Before training, you need to convert the strings to a numerical representation. \n",
        "\n",
        "The `tf.keras.layers.StringLookup` layer can convert each character into a numeric ID. It just needs the text to be split into tokens first."
      ]
    },
    {
      "cell_type": "code",
      "execution_count": 6,
      "metadata": {
        "id": "a86OoYtO01go",
        "colab": {
          "base_uri": "https://localhost:8080/"
        },
        "outputId": "37a71a2e-efcc-4b81-8b96-d6446f3e22b9"
      },
      "outputs": [
        {
          "output_type": "execute_result",
          "data": {
            "text/plain": [
              "<tf.RaggedTensor [[b'a', b'b', b'c', b'd', b'e', b'f', b'g'], [b'x', b'y', b'z']]>"
            ]
          },
          "metadata": {},
          "execution_count": 6
        }
      ],
      "source": [
        "example_texts = ['abcdefg', 'xyz']\n",
        "\n",
        "chars = tf.strings.unicode_split(example_texts, input_encoding='UTF-8')\n",
        "chars"
      ]
    },
    {
      "cell_type": "markdown",
      "metadata": {
        "id": "1s4f1q3iqY8f"
      },
      "source": [
        "Now create the `tf.keras.layers.StringLookup` layer:"
      ]
    },
    {
      "cell_type": "code",
      "execution_count": 7,
      "metadata": {
        "id": "6GMlCe3qzaL9"
      },
      "outputs": [],
      "source": [
        "ids_from_chars = tf.keras.layers.StringLookup(\n",
        "    vocabulary=list(vocab), mask_token=None)"
      ]
    },
    {
      "cell_type": "markdown",
      "metadata": {
        "id": "ZmX_jbgQqfOi"
      },
      "source": [
        "It converts from tokens to character IDs:"
      ]
    },
    {
      "cell_type": "code",
      "execution_count": 8,
      "metadata": {
        "id": "WLv5Q_2TC2pc",
        "colab": {
          "base_uri": "https://localhost:8080/"
        },
        "outputId": "df2e9e38-8220-450d-9b86-cd40924617a0"
      },
      "outputs": [
        {
          "output_type": "execute_result",
          "data": {
            "text/plain": [
              "<tf.RaggedTensor [[40, 41, 42, 43, 44, 45, 46], [63, 64, 65]]>"
            ]
          },
          "metadata": {},
          "execution_count": 8
        }
      ],
      "source": [
        "ids = ids_from_chars(chars)\n",
        "ids"
      ]
    },
    {
      "cell_type": "markdown",
      "metadata": {
        "id": "tZfqhkYCymwX"
      },
      "source": [
        "\n",
        "\n",
        "```\n",
        "# This is formatted as code\n",
        "```\n",
        "\n",
        "Since the goal is to generate text, it will also be important to invert this representation and recover human-readable strings from it. For this you can use `tf.keras.layers.StringLookup(..., invert=True)`.  "
      ]
    },
    {
      "cell_type": "markdown",
      "metadata": {
        "id": "uenivzwqsDhp"
      },
      "source": [
        "Note: Here instead of passing the original vocabulary generated with `sorted(set(text))` use the `get_vocabulary()` method of the `tf.keras.layers.StringLookup` layer so that the `[UNK]` tokens is set the same way."
      ]
    },
    {
      "cell_type": "code",
      "execution_count": 9,
      "metadata": {
        "id": "Wd2m3mqkDjRj"
      },
      "outputs": [],
      "source": [
        "chars_from_ids = tf.keras.layers.StringLookup(\n",
        "    vocabulary=ids_from_chars.get_vocabulary(), invert=True, mask_token=None)"
      ]
    },
    {
      "cell_type": "markdown",
      "metadata": {
        "id": "pqTDDxS-s-H8"
      },
      "source": [
        "This layer recovers the characters from the vectors of IDs, and returns them as a `tf.RaggedTensor` of characters:"
      ]
    },
    {
      "cell_type": "code",
      "execution_count": 10,
      "metadata": {
        "id": "c2GCh0ySD44s",
        "colab": {
          "base_uri": "https://localhost:8080/"
        },
        "outputId": "b7cda729-d615-4773-90ab-5e4f2a1f743f"
      },
      "outputs": [
        {
          "output_type": "execute_result",
          "data": {
            "text/plain": [
              "<tf.RaggedTensor [[b'a', b'b', b'c', b'd', b'e', b'f', b'g'], [b'x', b'y', b'z']]>"
            ]
          },
          "metadata": {},
          "execution_count": 10
        }
      ],
      "source": [
        "chars = chars_from_ids(ids)\n",
        "chars"
      ]
    },
    {
      "cell_type": "markdown",
      "metadata": {
        "id": "-FeW5gqutT3o"
      },
      "source": [
        "You can `tf.strings.reduce_join` to join the characters back into strings. "
      ]
    },
    {
      "cell_type": "code",
      "execution_count": 11,
      "metadata": {
        "id": "zxYI-PeltqKP",
        "colab": {
          "base_uri": "https://localhost:8080/"
        },
        "outputId": "8caafb25-0ea5-4ce8-fd55-c65826f7e572"
      },
      "outputs": [
        {
          "output_type": "execute_result",
          "data": {
            "text/plain": [
              "array([b'abcdefg', b'xyz'], dtype=object)"
            ]
          },
          "metadata": {},
          "execution_count": 11
        }
      ],
      "source": [
        "tf.strings.reduce_join(chars, axis=-1).numpy()"
      ]
    },
    {
      "cell_type": "code",
      "execution_count": 12,
      "metadata": {
        "id": "w5apvBDn9Ind"
      },
      "outputs": [],
      "source": [
        "def text_from_ids(ids):\n",
        "  return tf.strings.reduce_join(chars_from_ids(ids), axis=-1)"
      ]
    },
    {
      "cell_type": "markdown",
      "metadata": {
        "id": "bbmsf23Bymwe"
      },
      "source": [
        "### The prediction task"
      ]
    },
    {
      "cell_type": "markdown",
      "metadata": {
        "id": "wssHQ1oGymwe"
      },
      "source": [
        "Given a character, or a sequence of characters, what is the most probable next character? This is the task you're training the model to perform. The input to the model will be a sequence of characters, and you train the model to predict the output—the following character at each time step.\n",
        "\n",
        "Since RNNs maintain an internal state that depends on the previously seen elements, given all the characters computed until this moment, what is the next character?\n"
      ]
    },
    {
      "cell_type": "markdown",
      "metadata": {
        "id": "hgsVvVxnymwf"
      },
      "source": [
        "### Create training examples and targets\n",
        "\n",
        "Next divide the text into example sequences. Each input sequence will contain `seq_length` characters from the text.\n",
        "\n",
        "For each input sequence, the corresponding targets contain the same length of text, except shifted one character to the right.\n",
        "\n",
        "So break the text into chunks of `seq_length+1`. For example, say `seq_length` is 4 and our text is \"Hello\". The input sequence would be \"Hell\", and the target sequence \"ello\".\n",
        "\n",
        "To do this first use the `tf.data.Dataset.from_tensor_slices` function to convert the text vector into a stream of character indices."
      ]
    },
    {
      "cell_type": "code",
      "execution_count": 13,
      "metadata": {
        "id": "UopbsKi88tm5",
        "colab": {
          "base_uri": "https://localhost:8080/"
        },
        "outputId": "c841e750-12ee-488b-879d-c623fe61e997"
      },
      "outputs": [
        {
          "output_type": "execute_result",
          "data": {
            "text/plain": [
              "<tf.Tensor: shape=(1115394,), dtype=int64, numpy=array([19, 48, 57, ..., 46,  9,  1])>"
            ]
          },
          "metadata": {},
          "execution_count": 13
        }
      ],
      "source": [
        "all_ids = ids_from_chars(tf.strings.unicode_split(text, 'UTF-8'))\n",
        "all_ids"
      ]
    },
    {
      "cell_type": "code",
      "execution_count": 14,
      "metadata": {
        "id": "qmxrYDCTy-eL"
      },
      "outputs": [],
      "source": [
        "ids_dataset = tf.data.Dataset.from_tensor_slices(all_ids)"
      ]
    },
    {
      "cell_type": "code",
      "execution_count": 15,
      "metadata": {
        "id": "cjH5v45-yqqH",
        "colab": {
          "base_uri": "https://localhost:8080/"
        },
        "outputId": "fb70d65e-78fa-4234-c8c9-c546991d277f"
      },
      "outputs": [
        {
          "output_type": "stream",
          "name": "stdout",
          "text": [
            "F\n",
            "i\n",
            "r\n",
            "s\n",
            "t\n",
            " \n",
            "C\n",
            "i\n",
            "t\n",
            "i\n"
          ]
        }
      ],
      "source": [
        "for ids in ids_dataset.take(10):\n",
        "    print(chars_from_ids(ids).numpy().decode('utf-8'))"
      ]
    },
    {
      "cell_type": "code",
      "execution_count": 16,
      "metadata": {
        "id": "C-G2oaTxy6km"
      },
      "outputs": [],
      "source": [
        "seq_length = 100\n"
      ]
    },
    {
      "cell_type": "markdown",
      "metadata": {
        "id": "-ZSYAcQV8OGP"
      },
      "source": [
        "The `batch` method lets you easily convert these individual characters to sequences of the desired size."
      ]
    },
    {
      "cell_type": "code",
      "execution_count": 17,
      "metadata": {
        "id": "BpdjRO2CzOfZ",
        "colab": {
          "base_uri": "https://localhost:8080/"
        },
        "outputId": "a7e1948a-b1d7-4c5f-f110-f08cac9c4ed2"
      },
      "outputs": [
        {
          "output_type": "stream",
          "name": "stdout",
          "text": [
            "tf.Tensor(\n",
            "[b'F' b'i' b'r' b's' b't' b' ' b'C' b'i' b't' b'i' b'z' b'e' b'n' b':'\n",
            " b'\\n' b'B' b'e' b'f' b'o' b'r' b'e' b' ' b'w' b'e' b' ' b'p' b'r' b'o'\n",
            " b'c' b'e' b'e' b'd' b' ' b'a' b'n' b'y' b' ' b'f' b'u' b'r' b't' b'h'\n",
            " b'e' b'r' b',' b' ' b'h' b'e' b'a' b'r' b' ' b'm' b'e' b' ' b's' b'p'\n",
            " b'e' b'a' b'k' b'.' b'\\n' b'\\n' b'A' b'l' b'l' b':' b'\\n' b'S' b'p' b'e'\n",
            " b'a' b'k' b',' b' ' b's' b'p' b'e' b'a' b'k' b'.' b'\\n' b'\\n' b'F' b'i'\n",
            " b'r' b's' b't' b' ' b'C' b'i' b't' b'i' b'z' b'e' b'n' b':' b'\\n' b'Y'\n",
            " b'o' b'u' b' '], shape=(101,), dtype=string)\n"
          ]
        }
      ],
      "source": [
        "sequences = ids_dataset.batch(seq_length+1, drop_remainder=True)\n",
        "\n",
        "for seq in sequences.take(1):\n",
        "  print(chars_from_ids(seq))"
      ]
    },
    {
      "cell_type": "markdown",
      "metadata": {
        "id": "5PHW902-4oZt"
      },
      "source": [
        "It's easier to see what this is doing if you join the tokens back into strings:"
      ]
    },
    {
      "cell_type": "code",
      "execution_count": 18,
      "metadata": {
        "id": "QO32cMWu4a06",
        "colab": {
          "base_uri": "https://localhost:8080/"
        },
        "outputId": "c4a69024-59e9-4826-b048-e5ee6886a919"
      },
      "outputs": [
        {
          "output_type": "stream",
          "name": "stdout",
          "text": [
            "b'First Citizen:\\nBefore we proceed any further, hear me speak.\\n\\nAll:\\nSpeak, speak.\\n\\nFirst Citizen:\\nYou '\n",
            "b'are all resolved rather to die than to famish?\\n\\nAll:\\nResolved. resolved.\\n\\nFirst Citizen:\\nFirst, you k'\n",
            "b\"now Caius Marcius is chief enemy to the people.\\n\\nAll:\\nWe know't, we know't.\\n\\nFirst Citizen:\\nLet us ki\"\n",
            "b\"ll him, and we'll have corn at our own price.\\nIs't a verdict?\\n\\nAll:\\nNo more talking on't; let it be d\"\n",
            "b'one: away, away!\\n\\nSecond Citizen:\\nOne word, good citizens.\\n\\nFirst Citizen:\\nWe are accounted poor citi'\n"
          ]
        }
      ],
      "source": [
        "for seq in sequences.take(5):\n",
        "  print(text_from_ids(seq).numpy())"
      ]
    },
    {
      "cell_type": "markdown",
      "metadata": {
        "id": "UbLcIPBj_mWZ"
      },
      "source": [
        "For training you'll need a dataset of `(input, label)` pairs. Where `input` and \n",
        "`label` are sequences. At each time step the input is the current character and the label is the next character. \n",
        "\n",
        "Here's a function that takes a sequence as input, duplicates, and shifts it to align the input and label for each timestep:"
      ]
    },
    {
      "cell_type": "code",
      "execution_count": 19,
      "metadata": {
        "id": "9NGu-FkO_kYU"
      },
      "outputs": [],
      "source": [
        "def split_input_target(sequence):\n",
        "    input_text = sequence[:-1]\n",
        "    target_text = sequence[1:]\n",
        "    return input_text, target_text"
      ]
    },
    {
      "cell_type": "code",
      "execution_count": 20,
      "metadata": {
        "id": "WxbDTJTw5u_P",
        "colab": {
          "base_uri": "https://localhost:8080/"
        },
        "outputId": "529eb2a1-1a71-4a7d-cf51-5c47c378f79a"
      },
      "outputs": [
        {
          "output_type": "execute_result",
          "data": {
            "text/plain": [
              "(['T', 'e', 'n', 's', 'o', 'r', 'f', 'l', 'o'],\n",
              " ['e', 'n', 's', 'o', 'r', 'f', 'l', 'o', 'w'])"
            ]
          },
          "metadata": {},
          "execution_count": 20
        }
      ],
      "source": [
        "split_input_target(list(\"Tensorflow\"))"
      ]
    },
    {
      "cell_type": "code",
      "execution_count": 21,
      "metadata": {
        "id": "B9iKPXkw5xwa"
      },
      "outputs": [],
      "source": [
        "dataset = sequences.map(split_input_target)"
      ]
    },
    {
      "cell_type": "code",
      "execution_count": 22,
      "metadata": {
        "id": "GNbw-iR0ymwj",
        "colab": {
          "base_uri": "https://localhost:8080/"
        },
        "outputId": "c6e09099-e853-4208-98b6-2ab6de3ed9a9"
      },
      "outputs": [
        {
          "output_type": "stream",
          "name": "stdout",
          "text": [
            "Input : b'First Citizen:\\nBefore we proceed any further, hear me speak.\\n\\nAll:\\nSpeak, speak.\\n\\nFirst Citizen:\\nYou'\n",
            "Target: b'irst Citizen:\\nBefore we proceed any further, hear me speak.\\n\\nAll:\\nSpeak, speak.\\n\\nFirst Citizen:\\nYou '\n"
          ]
        }
      ],
      "source": [
        "for input_example, target_example in dataset.take(1):\n",
        "    print(\"Input :\", text_from_ids(input_example).numpy())\n",
        "    print(\"Target:\", text_from_ids(target_example).numpy())"
      ]
    },
    {
      "cell_type": "markdown",
      "metadata": {
        "id": "MJdfPmdqzf-R"
      },
      "source": [
        "### Create training batches\n",
        "\n",
        "You used `tf.data` to split the text into manageable sequences. But before feeding this data into the model, you need to shuffle the data and pack it into batches."
      ]
    },
    {
      "cell_type": "code",
      "execution_count": 23,
      "metadata": {
        "id": "p2pGotuNzf-S",
        "colab": {
          "base_uri": "https://localhost:8080/"
        },
        "outputId": "ef3bbb53-e574-4d14-b977-1b99ff3c5f4d"
      },
      "outputs": [
        {
          "output_type": "execute_result",
          "data": {
            "text/plain": [
              "<_PrefetchDataset element_spec=(TensorSpec(shape=(64, 100), dtype=tf.int64, name=None), TensorSpec(shape=(64, 100), dtype=tf.int64, name=None))>"
            ]
          },
          "metadata": {},
          "execution_count": 23
        }
      ],
      "source": [
        "# Batch size\n",
        "BATCH_SIZE = 64\n",
        "\n",
        "# Buffer size to shuffle the dataset\n",
        "# (TF data is designed to work with possibly infinite sequences,\n",
        "# so it doesn't attempt to shuffle the entire sequence in memory. Instead,\n",
        "# it maintains a buffer in which it shuffles elements).\n",
        "BUFFER_SIZE = 10000\n",
        "\n",
        "dataset = (\n",
        "    dataset\n",
        "    .shuffle(BUFFER_SIZE)\n",
        "    .batch(BATCH_SIZE, drop_remainder=True)\n",
        "    .prefetch(tf.data.experimental.AUTOTUNE))\n",
        "\n",
        "dataset"
      ]
    },
    {
      "cell_type": "markdown",
      "metadata": {
        "id": "r6oUuElIMgVx"
      },
      "source": [
        "## Build The Model"
      ]
    },
    {
      "cell_type": "markdown",
      "metadata": {
        "id": "m8gPwEjRzf-Z"
      },
      "source": [
        "\n",
        "This model has three layers:\n",
        "\n",
        "* `tf.keras.layers.Embedding`: The input layer. A trainable lookup table that will map each character-ID to a vector with `embedding_dim` dimensions;\n",
        "* `tf.keras.layers.GRU`: A type of RNN with size `units=rnn_units` (You can also use an LSTM layer here.)\n",
        "* `tf.keras.layers.Dense`: The output layer, with `vocab_size` outputs. It outputs one logit for each character in the vocabulary. These are the log-likelihood of each character according to the model."
      ]
    },
    {
      "cell_type": "code",
      "execution_count": 24,
      "metadata": {
        "id": "zHT8cLh7EAsg"
      },
      "outputs": [],
      "source": [
        "# Length of the vocabulary in StringLookup Layer\n",
        "vocab_size = len(ids_from_chars.get_vocabulary())\n",
        "\n",
        "# The embedding dimension\n",
        "embedding_dim = 256\n",
        "\n",
        "# Number of RNN units\n",
        "rnn_units = 1024"
      ]
    },
    {
      "cell_type": "code",
      "execution_count": 25,
      "metadata": {
        "id": "wj8HQ2w8z4iO"
      },
      "outputs": [],
      "source": [
        "class MyModel(tf.keras.Model):\n",
        "  def __init__(self, vocab_size, embedding_dim, rnn_units):\n",
        "    super().__init__(self)\n",
        "    self.embedding = tf.keras.layers.Embedding(vocab_size, embedding_dim)\n",
        "    self.gru = tf.keras.layers.GRU(rnn_units,\n",
        "                                   return_sequences=True,\n",
        "                                   return_state=True)\n",
        "    self.dense = tf.keras.layers.Dense(vocab_size)\n",
        "\n",
        "  def call(self, inputs, states=None, return_state=False, training=False):\n",
        "    x = inputs\n",
        "    x = self.embedding(x, training=training)\n",
        "    if states is None:\n",
        "      states = self.gru.get_initial_state(x)\n",
        "    x, states = self.gru(x, initial_state=states, training=training)\n",
        "    x = self.dense(x, training=training)\n",
        "\n",
        "    if return_state:\n",
        "      return x, states\n",
        "    else:\n",
        "      return x"
      ]
    },
    {
      "cell_type": "code",
      "execution_count": 26,
      "metadata": {
        "id": "IX58Xj9z47Aw"
      },
      "outputs": [],
      "source": [
        "model = MyModel(\n",
        "    vocab_size=vocab_size,\n",
        "    embedding_dim=embedding_dim,\n",
        "    rnn_units=rnn_units)"
      ]
    },
    {
      "cell_type": "markdown",
      "metadata": {
        "id": "RkA5upJIJ7W7"
      },
      "source": [
        "For each character the model looks up the embedding, runs the GRU one timestep with the embedding as input, and applies the dense layer to generate logits predicting the log-likelihood of the next character:\n",
        "\n",
        "![A drawing of the data passing through the model](https://github.com/tensorflow/text/blob/master/docs/tutorials/images/text_generation_training.png?raw=1)"
      ]
    },
    {
      "cell_type": "markdown",
      "metadata": {
        "id": "gKbfm04amhXk"
      },
      "source": [
        "Note: For training you could use a `keras.Sequential` model here. To  generate text later you'll need to manage the RNN's internal state. It's simpler to include the state input and output options upfront, than it is to rearrange the model architecture later. For more details see the [Keras RNN guide](https://www.tensorflow.org/guide/keras/rnn#rnn_state_reuse)."
      ]
    },
    {
      "cell_type": "markdown",
      "metadata": {
        "id": "-ubPo0_9Prjb"
      },
      "source": [
        "## Try the model\n",
        "\n",
        "Now run the model to see that it behaves as expected.\n",
        "\n",
        "First check the shape of the output:"
      ]
    },
    {
      "cell_type": "code",
      "execution_count": 27,
      "metadata": {
        "id": "C-_70kKAPrPU",
        "colab": {
          "base_uri": "https://localhost:8080/"
        },
        "outputId": "c307b4ac-38e9-448f-bccc-8c5e81156dc1"
      },
      "outputs": [
        {
          "output_type": "stream",
          "name": "stdout",
          "text": [
            "(64, 100, 66) # (batch_size, sequence_length, vocab_size)\n"
          ]
        }
      ],
      "source": [
        "for input_example_batch, target_example_batch in dataset.take(1):\n",
        "    example_batch_predictions = model(input_example_batch)\n",
        "    print(example_batch_predictions.shape, \"# (batch_size, sequence_length, vocab_size)\")"
      ]
    },
    {
      "cell_type": "markdown",
      "metadata": {
        "id": "Q6NzLBi4VM4o"
      },
      "source": [
        "In the above example the sequence length of the input is `100` but the model can be run on inputs of any length:"
      ]
    },
    {
      "cell_type": "code",
      "execution_count": 28,
      "metadata": {
        "id": "vPGmAAXmVLGC",
        "colab": {
          "base_uri": "https://localhost:8080/"
        },
        "outputId": "a8f1d2e6-8c12-4151-a985-b93679e21ea1"
      },
      "outputs": [
        {
          "output_type": "stream",
          "name": "stdout",
          "text": [
            "Model: \"my_model\"\n",
            "_________________________________________________________________\n",
            " Layer (type)                Output Shape              Param #   \n",
            "=================================================================\n",
            " embedding (Embedding)       multiple                  16896     \n",
            "                                                                 \n",
            " gru (GRU)                   multiple                  3938304   \n",
            "                                                                 \n",
            " dense (Dense)               multiple                  67650     \n",
            "                                                                 \n",
            "=================================================================\n",
            "Total params: 4,022,850\n",
            "Trainable params: 4,022,850\n",
            "Non-trainable params: 0\n",
            "_________________________________________________________________\n"
          ]
        }
      ],
      "source": [
        "model.summary()"
      ]
    },
    {
      "cell_type": "markdown",
      "metadata": {
        "id": "uwv0gEkURfx1"
      },
      "source": [
        "To get actual predictions from the model you need to sample from the output distribution, to get actual character indices. This distribution is defined by the logits over the character vocabulary.\n",
        "\n",
        "Note: It is important to _sample_ from this distribution as taking the _argmax_ of the distribution can easily get the model stuck in a loop.\n",
        "\n",
        "Try it for the first example in the batch:"
      ]
    },
    {
      "cell_type": "code",
      "execution_count": 29,
      "metadata": {
        "id": "4V4MfFg0RQJg"
      },
      "outputs": [],
      "source": [
        "sampled_indices = tf.random.categorical(example_batch_predictions[0], num_samples=1)\n",
        "sampled_indices = tf.squeeze(sampled_indices, axis=-1).numpy()"
      ]
    },
    {
      "cell_type": "markdown",
      "metadata": {
        "id": "QM1Vbxs_URw5"
      },
      "source": [
        "This gives us, at each timestep, a prediction of the next character index:"
      ]
    },
    {
      "cell_type": "code",
      "execution_count": 30,
      "metadata": {
        "id": "YqFMUQc_UFgM",
        "colab": {
          "base_uri": "https://localhost:8080/"
        },
        "outputId": "17684796-1a60-4fbf-ccc7-073725033a6f"
      },
      "outputs": [
        {
          "output_type": "execute_result",
          "data": {
            "text/plain": [
              "array([44, 25, 15, 40, 44, 25, 54, 26, 48, 25,  0, 56, 23,  9, 20, 58, 50,\n",
              "       41, 64, 46, 24, 24, 57, 40, 47, 38, 46, 24, 51, 59, 43,  3,  2, 37,\n",
              "       25, 47,  5,  2, 65, 20, 61, 56, 31, 61,  9,  3, 13, 22, 49, 18, 63,\n",
              "        7,  5, 28, 33, 13, 59, 65, 32, 42, 62, 15, 46, 30, 37, 51, 60, 31,\n",
              "       26, 13, 30, 35, 25, 61, 21, 54, 57, 50, 65,  8,  9, 19, 40, 40, 17,\n",
              "       39, 44,  3, 29, 26, 36, 59, 35, 17, 18, 18, 52, 53, 63, 53])"
            ]
          },
          "metadata": {},
          "execution_count": 30
        }
      ],
      "source": [
        "sampled_indices"
      ]
    },
    {
      "cell_type": "markdown",
      "metadata": {
        "id": "LfLtsP3mUhCG"
      },
      "source": [
        "Decode these to see the text predicted by this untrained model:"
      ]
    },
    {
      "cell_type": "code",
      "execution_count": 31,
      "metadata": {
        "id": "xWcFwPwLSo05",
        "colab": {
          "base_uri": "https://localhost:8080/"
        },
        "outputId": "33a5a29a-14f4-45b3-94d5-28b4476ab488"
      },
      "outputs": [
        {
          "output_type": "stream",
          "name": "stdout",
          "text": [
            "Input:\n",
            " b're I move,\\nWhat my tongue speaks my right drawn sword may prove.\\n\\nTHOMAS MOWBRAY:\\nLet not my cold wo'\n",
            "\n",
            "Next Char Predictions:\n",
            " b'eLBaeLoMiL[UNK]qJ.GskbygKKrahYgKltd! XLh& zGvqRv.!?IjEx,&OT?tzScwBgQXluRM?QVLvHorkz-.FaaDZe!PMWtVDEEmnxn'\n"
          ]
        }
      ],
      "source": [
        "print(\"Input:\\n\", text_from_ids(input_example_batch[0]).numpy())\n",
        "print()\n",
        "print(\"Next Char Predictions:\\n\", text_from_ids(sampled_indices).numpy())"
      ]
    },
    {
      "cell_type": "markdown",
      "metadata": {
        "id": "LJL0Q0YPY6Ee"
      },
      "source": [
        "## Train the model"
      ]
    },
    {
      "cell_type": "markdown",
      "metadata": {
        "id": "YCbHQHiaa4Ic"
      },
      "source": [
        "At this point the problem can be treated as a standard classification problem. Given the previous RNN state, and the input this time step, predict the class of the next character."
      ]
    },
    {
      "cell_type": "markdown",
      "metadata": {
        "id": "trpqTWyvk0nr"
      },
      "source": [
        "### Attach an optimizer, and a loss function"
      ]
    },
    {
      "cell_type": "markdown",
      "metadata": {
        "id": "UAjbjY03eiQ4"
      },
      "source": [
        "The standard `tf.keras.losses.sparse_categorical_crossentropy` loss function works in this case because it is applied across the last dimension of the predictions.\n",
        "\n",
        "Because your model returns logits, you need to set the `from_logits` flag.\n"
      ]
    },
    {
      "cell_type": "code",
      "execution_count": 32,
      "metadata": {
        "id": "ZOeWdgxNFDXq"
      },
      "outputs": [],
      "source": [
        "loss = tf.losses.SparseCategoricalCrossentropy(from_logits=True)"
      ]
    },
    {
      "cell_type": "code",
      "execution_count": 33,
      "metadata": {
        "id": "4HrXTACTdzY-",
        "colab": {
          "base_uri": "https://localhost:8080/"
        },
        "outputId": "57a83a53-bb08-4fab-a634-755b6c168e00"
      },
      "outputs": [
        {
          "output_type": "stream",
          "name": "stdout",
          "text": [
            "Prediction shape:  (64, 100, 66)  # (batch_size, sequence_length, vocab_size)\n",
            "Mean loss:         tf.Tensor(4.1899853, shape=(), dtype=float32)\n"
          ]
        }
      ],
      "source": [
        "example_batch_mean_loss = loss(target_example_batch, example_batch_predictions)\n",
        "print(\"Prediction shape: \", example_batch_predictions.shape, \" # (batch_size, sequence_length, vocab_size)\")\n",
        "print(\"Mean loss:        \", example_batch_mean_loss)"
      ]
    },
    {
      "cell_type": "markdown",
      "metadata": {
        "id": "vkvUIneTFiow"
      },
      "source": [
        "A newly initialized model shouldn't be too sure of itself, the output logits should all have similar magnitudes. To confirm this you can check that the exponential of the mean loss is approximately equal to the vocabulary size. A much higher loss means the model is sure of its wrong answers, and is badly initialized:"
      ]
    },
    {
      "cell_type": "code",
      "execution_count": 34,
      "metadata": {
        "id": "MAJfS5YoFiHf",
        "colab": {
          "base_uri": "https://localhost:8080/"
        },
        "outputId": "efe566af-60b1-43be-a59c-20e00923581d"
      },
      "outputs": [
        {
          "output_type": "execute_result",
          "data": {
            "text/plain": [
              "66.02182"
            ]
          },
          "metadata": {},
          "execution_count": 34
        }
      ],
      "source": [
        "tf.exp(example_batch_mean_loss).numpy()"
      ]
    },
    {
      "cell_type": "markdown",
      "metadata": {
        "id": "jeOXriLcymww"
      },
      "source": [
        "Configure the training procedure using the `tf.keras.Model.compile` method. Use `tf.keras.optimizers.Adam` with default arguments and the loss function."
      ]
    },
    {
      "cell_type": "code",
      "execution_count": 35,
      "metadata": {
        "id": "DDl1_Een6rL0"
      },
      "outputs": [],
      "source": [
        "model.compile(optimizer='adam', loss=loss)"
      ]
    },
    {
      "cell_type": "markdown",
      "metadata": {
        "id": "ieSJdchZggUj"
      },
      "source": [
        "### Configure checkpoints"
      ]
    },
    {
      "cell_type": "code",
      "execution_count": 36,
      "metadata": {
        "id": "W6fWTriUZP-n"
      },
      "outputs": [],
      "source": [
        "# Directory where the checkpoints will be saved\n",
        "checkpoint_dir = './training_checkpoints'\n",
        "# Name of the checkpoint files\n",
        "checkpoint_prefix = os.path.join(checkpoint_dir, \"ckpt_{epoch}\")\n",
        "\n",
        "checkpoint_callback = tf.keras.callbacks.ModelCheckpoint(\n",
        "    filepath=checkpoint_prefix,\n",
        "    save_weights_only=True)"
      ]
    },
    {
      "cell_type": "markdown",
      "metadata": {
        "id": "3Ky3F_BhgkTW"
      },
      "source": [
        "### Execute the training"
      ]
    },
    {
      "cell_type": "code",
      "execution_count": 37,
      "metadata": {
        "id": "7yGBE2zxMMHs"
      },
      "outputs": [],
      "source": [
        "EPOCHS = 30"
      ]
    },
    {
      "cell_type": "code",
      "execution_count": 38,
      "metadata": {
        "id": "UK-hmKjYVoll",
        "colab": {
          "base_uri": "https://localhost:8080/"
        },
        "outputId": "741a6fa4-a830-43c6-9d14-38cc6a4d6f65"
      },
      "outputs": [
        {
          "output_type": "stream",
          "name": "stdout",
          "text": [
            "Epoch 1/30\n",
            "172/172 [==============================] - 7s 17ms/step - loss: 2.7025\n",
            "Epoch 2/30\n",
            "172/172 [==============================] - 3s 10ms/step - loss: 1.9708\n",
            "Epoch 3/30\n",
            "172/172 [==============================] - 3s 11ms/step - loss: 1.7018\n",
            "Epoch 4/30\n",
            "172/172 [==============================] - 3s 10ms/step - loss: 1.5466\n",
            "Epoch 5/30\n",
            "172/172 [==============================] - 3s 10ms/step - loss: 1.4503\n",
            "Epoch 6/30\n",
            "172/172 [==============================] - 3s 10ms/step - loss: 1.3835\n",
            "Epoch 7/30\n",
            "172/172 [==============================] - 3s 10ms/step - loss: 1.3311\n",
            "Epoch 8/30\n",
            "172/172 [==============================] - 3s 10ms/step - loss: 1.2867\n",
            "Epoch 9/30\n",
            "172/172 [==============================] - 3s 10ms/step - loss: 1.2456\n",
            "Epoch 10/30\n",
            "172/172 [==============================] - 3s 10ms/step - loss: 1.2068\n",
            "Epoch 11/30\n",
            "172/172 [==============================] - 3s 11ms/step - loss: 1.1676\n",
            "Epoch 12/30\n",
            "172/172 [==============================] - 3s 10ms/step - loss: 1.1254\n",
            "Epoch 13/30\n",
            "172/172 [==============================] - 3s 10ms/step - loss: 1.0824\n",
            "Epoch 14/30\n",
            "172/172 [==============================] - 3s 10ms/step - loss: 1.0372\n",
            "Epoch 15/30\n",
            "172/172 [==============================] - 3s 10ms/step - loss: 0.9886\n",
            "Epoch 16/30\n",
            "172/172 [==============================] - 3s 10ms/step - loss: 0.9378\n",
            "Epoch 17/30\n",
            "172/172 [==============================] - 3s 10ms/step - loss: 0.8856\n",
            "Epoch 18/30\n",
            "172/172 [==============================] - 3s 10ms/step - loss: 0.8327\n",
            "Epoch 19/30\n",
            "172/172 [==============================] - 3s 10ms/step - loss: 0.7798\n",
            "Epoch 20/30\n",
            "172/172 [==============================] - 3s 10ms/step - loss: 0.7314\n",
            "Epoch 21/30\n",
            "172/172 [==============================] - 3s 10ms/step - loss: 0.6857\n",
            "Epoch 22/30\n",
            "172/172 [==============================] - 3s 10ms/step - loss: 0.6427\n",
            "Epoch 23/30\n",
            "172/172 [==============================] - 3s 10ms/step - loss: 0.6073\n",
            "Epoch 24/30\n",
            "172/172 [==============================] - 3s 10ms/step - loss: 0.5751\n",
            "Epoch 25/30\n",
            "172/172 [==============================] - 3s 10ms/step - loss: 0.5504\n",
            "Epoch 26/30\n",
            "172/172 [==============================] - 3s 10ms/step - loss: 0.5275\n",
            "Epoch 27/30\n",
            "172/172 [==============================] - 3s 10ms/step - loss: 0.5073\n",
            "Epoch 28/30\n",
            "172/172 [==============================] - 3s 10ms/step - loss: 0.4937\n",
            "Epoch 29/30\n",
            "172/172 [==============================] - 3s 10ms/step - loss: 0.4787\n",
            "Epoch 30/30\n",
            "172/172 [==============================] - 3s 10ms/step - loss: 0.4726\n"
          ]
        }
      ],
      "source": [
        "history = model.fit(dataset, epochs=EPOCHS, callbacks=[checkpoint_callback])"
      ]
    },
    {
      "cell_type": "markdown",
      "metadata": {
        "id": "kKkD5M6eoSiN"
      },
      "source": [
        "## Generate text"
      ]
    },
    {
      "cell_type": "markdown",
      "metadata": {
        "id": "oIdQ8c8NvMzV"
      },
      "source": [
        "The simplest way to generate text with this model is to run it in a loop, and keep track of the model's internal state as you execute it.\n",
        "\n",
        "![To generate text the model's output is fed back to the input](https://github.com/tensorflow/text/blob/master/docs/tutorials/images/text_generation_sampling.png?raw=1)\n",
        "\n",
        "Each time you call the model you pass in some text and an internal state. The model returns a prediction for the next character and its new state. Pass the prediction and state back in to continue generating text.\n"
      ]
    },
    {
      "cell_type": "markdown",
      "metadata": {
        "id": "DjGz1tDkzf-u"
      },
      "source": [
        "The following makes a single step prediction:"
      ]
    },
    {
      "cell_type": "code",
      "execution_count": 39,
      "metadata": {
        "id": "iSBU1tHmlUSs"
      },
      "outputs": [],
      "source": [
        "class OneStep(tf.keras.Model):\n",
        "  def __init__(self, model, chars_from_ids, ids_from_chars, temperature=1.0):\n",
        "    super().__init__()\n",
        "    self.temperature = temperature\n",
        "    self.model = model\n",
        "    self.chars_from_ids = chars_from_ids\n",
        "    self.ids_from_chars = ids_from_chars\n",
        "\n",
        "    # Create a mask to prevent \"[UNK]\" from being generated.\n",
        "    skip_ids = self.ids_from_chars(['[UNK]'])[:, None]\n",
        "    sparse_mask = tf.SparseTensor(\n",
        "        # Put a -inf at each bad index.\n",
        "        values=[-float('inf')]*len(skip_ids),\n",
        "        indices=skip_ids,\n",
        "        # Match the shape to the vocabulary\n",
        "        dense_shape=[len(ids_from_chars.get_vocabulary())])\n",
        "    self.prediction_mask = tf.sparse.to_dense(sparse_mask)\n",
        "\n",
        "  @tf.function\n",
        "  def generate_one_step(self, inputs, states=None):\n",
        "    # Convert strings to token IDs.\n",
        "    input_chars = tf.strings.unicode_split(inputs, 'UTF-8')\n",
        "    input_ids = self.ids_from_chars(input_chars).to_tensor()\n",
        "\n",
        "    # Run the model.\n",
        "    # predicted_logits.shape is [batch, char, next_char_logits]\n",
        "    predicted_logits, states = self.model(inputs=input_ids, states=states,\n",
        "                                          return_state=True)\n",
        "    # Only use the last prediction.\n",
        "    predicted_logits = predicted_logits[:, -1, :]\n",
        "    predicted_logits = predicted_logits/self.temperature\n",
        "    # Apply the prediction mask: prevent \"[UNK]\" from being generated.\n",
        "    predicted_logits = predicted_logits + self.prediction_mask\n",
        "\n",
        "    # Sample the output logits to generate token IDs.\n",
        "    predicted_ids = tf.random.categorical(predicted_logits, num_samples=1)\n",
        "    predicted_ids = tf.squeeze(predicted_ids, axis=-1)\n",
        "\n",
        "    # Convert from token ids to characters\n",
        "    predicted_chars = self.chars_from_ids(predicted_ids)\n",
        "\n",
        "    # Return the characters and model state.\n",
        "    return predicted_chars, states"
      ]
    },
    {
      "cell_type": "code",
      "execution_count": 40,
      "metadata": {
        "id": "fqMOuDutnOxK"
      },
      "outputs": [],
      "source": [
        "one_step_model = OneStep(model, chars_from_ids, ids_from_chars)"
      ]
    },
    {
      "cell_type": "markdown",
      "metadata": {
        "id": "p9yDoa0G3IgQ"
      },
      "source": [
        "Run it in a loop to generate some text. Looking at the generated text, you'll see the model knows when to capitalize, make paragraphs and imitates a Shakespeare-like writing vocabulary. With the small number of training epochs, it has not yet learned to form coherent sentences."
      ]
    },
    {
      "cell_type": "code",
      "execution_count": 41,
      "metadata": {
        "id": "ST7PSyk9t1mT",
        "colab": {
          "base_uri": "https://localhost:8080/"
        },
        "outputId": "f800e965-6eca-4696-e6a8-6ae44b7d2273"
      },
      "outputs": [
        {
          "output_type": "stream",
          "name": "stdout",
          "text": [
            "ROMEO:\n",
            "I propity not dear blood were cold fears impression that\n",
            "Is not have guarded 'pood of Marcius,'\n",
            "Towards on to bury blood Yor never come.\n",
            "Think still the king I did stood upon the way\n",
            "From Thomas Mowbray, did frost demandin. We cannot jud\n",
            "He be reported their followers' leave\n",
            "To have no privose confesses\n",
            "To hide our lord'st of all blood which Hen to be protector?\n",
            "\n",
            "QUEEN ELIZABETH:\n",
            "Ay, he must have so fair a shower and a loverim\n",
            "My person as I hear, must die to make thee haze\n",
            "falsefully find where he did laugh it not:\n",
            "Yet now with usurers of some merch,\n",
            "Nor time presagets for a dear; make way,\n",
            "As every one deliver there\n",
            "Of love be solely: go, prepare yourself;\n",
            "Or she threw than they who but such a charge\n",
            "of books the people's men; but you are nothing else\n",
            "Will purpose the body of the king.\n",
            "\n",
            "AENO:\n",
            "He was a jaunt of virtuous,\n",
            "But trust my torterer, and let's see chants of request.\n",
            "\n",
            "Pedant:\n",
            "Lo! a horse!\n",
            "\n",
            "Catesby:\n",
            "You are to burch he be, i' faith, that fair spains up their cheeks\n",
            "Thereof ex \n",
            "\n",
            "________________________________________________________________________________\n",
            "\n",
            "Run time: 2.617051362991333\n"
          ]
        }
      ],
      "source": [
        "start = time.time()\n",
        "states = None\n",
        "next_char = tf.constant(['ROMEO:'])\n",
        "result = [next_char]\n",
        "\n",
        "for n in range(1000):\n",
        "  next_char, states = one_step_model.generate_one_step(next_char, states=states)\n",
        "  result.append(next_char)\n",
        "\n",
        "result = tf.strings.join(result)\n",
        "end = time.time()\n",
        "print(result[0].numpy().decode('utf-8'), '\\n\\n' + '_'*80)\n",
        "print('\\nRun time:', end - start)"
      ]
    },
    {
      "cell_type": "markdown",
      "metadata": {
        "id": "AM2Uma_-yVIq"
      },
      "source": [
        "The easiest thing you can do to improve the results is to train it for longer\n",
        "\n",
        "You can also experiment with a different start string, try adding another RNN layer to improve the model's accuracy, or adjust the temperature parameter to generate more or less random predictions."
      ]
    },
    {
      "cell_type": "markdown",
      "metadata": {
        "id": "_OfbI4aULmuj"
      },
      "source": [
        "If you want the model to generate text *faster* the easiest thing you can do is batch the text generation. In the example below the model generates 5 outputs in about the same time it took to generate 1 above. "
      ]
    },
    {
      "cell_type": "code",
      "execution_count": 42,
      "metadata": {
        "id": "ZkLu7Y8UCMT7",
        "colab": {
          "base_uri": "https://localhost:8080/"
        },
        "outputId": "8063f30e-4ae4-4d5e-e760-3891efed22c8"
      },
      "outputs": [
        {
          "output_type": "stream",
          "name": "stdout",
          "text": [
            "tf.Tensor(\n",
            "[b\"ROMEO:\\nThe wild Capel, you, treas number, and two injustice\\ndost but this I have done.:\\nBut since I can bring citizens vaults, in mine art,\\nSue down I forgin; errol, masters, and all read\\nAnd follow me.\\n\\nKING RICHARD III:\\nI would I can put on the wild of us the house:\\nHis tears shall willing Plain, I have dream'd to order\\nWith the heart of the executioner,\\nChabber-back weary out: if my deep praymits, craves,\\nThe glasses as they will, and boysle with slaughbeal\\nand all the rest.\\n\\nDUKE OF YORK:\\nAf a pow o' the torch, and pay for the world 'shave\\nAnd her a present almost sweat. Cominius,\\nMutter of Hereford, and your brother Margaret\\nShould have beheld our maintain some other reason\\nAs many a than that loveth you.\\n\\nANGELO:\\nI have;\\nWhen men will do't behind what thou hast sawd\\nAn earthly notes.\\n\\nCLIFFORD:\\nInsweat of that is now quarrelling; and himself\\nLike time by much content and carterly\\nThe stranger stuff of breath, or their streets,\\nAnd tell him with child, and robe a man come hither.\\n\\nTYBAL\"\n",
            " b\"ROMEO:\\nThe sun is yours, and all, our king, and part.\\n\\nDUKE OF YORK:\\nIf for the rest, sir, viulddan their place and honour,\\nIt was a worse being away.\\n\\nCLARENCE:\\nWell, give me the letter.\\n\\nDUKE VINCENTIO:\\nA rather a loss is call'd plant. Doth see thee! Hark y, what mexason\\nHath he had been stone natures; and then we'll married\\nFrom colour of God of God's hearing of my word,\\nFor Juliet almost so far as the fortune will not\\ngive, and look to beggare? a lord, the direbble of the figure\\nWrinkles the first throne off I saw our signt.\\n\\nDUKE OF YORK:\\nMadam,\\nO heen and George! For that the rest lie that she\\nIs light, unheareth doth my hand of mine,\\nShe clied no bigger tear; here must I now?\\n\\nLADY CAPULET:\\nFear none condemn'd by Him that gave up in hand.\\n\\nHASTINGS:\\nNo noble tribunes!\\n\\nMENENIUS:\\nHow fares your highness' noble\\nBut one that you look'd for a temple: fast, good night!\\nNow I'll tell you what, when you shall come.\\n\\nHERMIONE:\\nAlack, alack, that heir to give.\\n\\nJULIET:\\nMy here's the diminess o\"\n",
            " b\"ROMEO:\\nThe writing he would not--\\nStrike here in her heart blood of honour,\\nPlain to-day: mut, what I speak,\\nNay, as I seem to be so strange, I must not see;\\nMeantime, and gentlewomen back again.\\n\\nROMEO:\\nAs merry here, the king and think thou knowest, with shades,\\nWhich Forces here founted lose chails of my soul,\\nProper to be the king's frain; less that speaks for his enemies.\\nI am made to bear, and so I wake,\\nWould not how much turns to his his land.\\n\\nFirst Lord:\\nPeace, ho! no.\\n\\nCAMILLO:\\nI have heard it said to do them good, I have a\\nman i' the world.\\n\\nGELOUE:\\nPrepare the soldiers;\\nAnd thus I'll make me quietly defend my leave:\\nI am friend on him, and presently example\\nAnd in his emixtation is enough.\\n\\nBRUTUS:\\nYield this horrow are the corms.\\n\\nYORK:\\nI warrant yourself into amended and undertake.\\n\\nRUTLARDINA:\\nI should have lated it:\\nBut what, my abroan, thou hast said off,\\nCan still forget, to answer Corioli\\nfain, if am not look'd on them. Is the modesty\\nof your own cause. Is't so? or what?\\n\"\n",
            " b\"ROMEO:\\nNot to his father's house; who beat me not?\\n\\nNORTHUMBERLAND:\\nYes, I am sure, some noble-grace allays. What am nothing\\nto be the key, and know how this frow hamp, I am a-geranam,\\nFor quickly think it with such friendships' wood.\\nThus far is left of satisfaction means:\\nTribunes, pitied scandalones, yet with us,\\nWhen justice have well slain, they all comes of content,\\nWhen he may be recover'd. Most desire,\\nTo lie your latest star shall I easy\\nTremit may think so loud:\\nBut He, lords, poor pertitantly, and all in panns\\nof beauty seal'd in justice; another deed,\\nLet Romeo slew thy chair in peace; know'st\\nThy eye, art thou in all advantage.\\n\\nMENENIUS:\\nWell, I must appect with us.\\n\\nVIRGILIA:\\nNo, good sir; but he, my letter for a fat;\\nI'll entorney as you did. You that is a prophes in our bed.\\n\\nHASTINGS:\\nOn me!\\n\\nVIRGILIA:\\nThe gods give him join, give me the hadst.\\n\\nKING LEWIS XI:\\nAnd still rest thine only means to strength,\\nAnd for his mercy, and their tranishipp'd Henry,\\nHer never in this bus\"\n",
            " b\"ROMEO:\\nThe wild sweet sentencied blind resolved makes with save\\nbut lish pinson smother'd.\\n\\nSICINIUS:\\nGo, take not, good sir;\\nPeruse me not to put the man ado:\\nAnd talk'st thy wrong, where it most gliding govern'd haste\\nThe way have none; our lives but rule, she had.\\n\\nGREMIO:\\nNay, I warrand not why so by Caius Marcius gone?\\n\\nHENRY BOLINGBROKE:\\nMy lord, I crave no jound to us:\\nAnd tell me, there she have alrays to make\\n\\nJULIET:\\nYou said so much I fear of men,\\nSo she as if thou darest not stay it, boy.\\nYou have a hair perjured, it too dare the gods\\nTo loss a soldier,' like a broad,\\nWhere DoNI LoUCHES:\\nThe trespass I can bring him two of the disgrace.\\n\\nPage:\\nIt is it, madam, for as He fall it\\nSo soon as you arrive, and very brother\\nWith tendom is at an extremity.\\n\\nADRIAN:\\nThanks, gentle uncle.\\n\\nSecond Servingman:\\nHere, no; indeed, sir, on himself and here longs along.\\n\\nVIRGILIA:\\nO, the duke-good death hath two kiss'd his lood,\\nHis curses in them, and their obedience;\\nHer father see our general \"], shape=(5,), dtype=string) \n",
            "\n",
            "________________________________________________________________________________\n",
            "\n",
            "Run time: 2.486401319503784\n"
          ]
        }
      ],
      "source": [
        "start = time.time()\n",
        "states = None\n",
        "next_char = tf.constant(['ROMEO:', 'ROMEO:', 'ROMEO:', 'ROMEO:', 'ROMEO:'])\n",
        "result = [next_char]\n",
        "\n",
        "for n in range(1000):\n",
        "  next_char, states = one_step_model.generate_one_step(next_char, states=states)\n",
        "  result.append(next_char)\n",
        "\n",
        "result = tf.strings.join(result)\n",
        "end = time.time()\n",
        "print(result, '\\n\\n' + '_'*80)\n",
        "print('\\nRun time:', end - start)"
      ]
    },
    {
      "cell_type": "markdown",
      "metadata": {
        "id": "UlUQzwu6EXam"
      },
      "source": [
        "## Export the generator\n"
      ]
    },
    {
      "cell_type": "code",
      "execution_count": 43,
      "metadata": {
        "id": "3Grk32H_CzsC",
        "colab": {
          "base_uri": "https://localhost:8080/"
        },
        "outputId": "e41726d7-a8e2-4e8c-b39d-b8692163fd6a"
      },
      "outputs": [
        {
          "output_type": "stream",
          "name": "stderr",
          "text": [
            "WARNING:tensorflow:Skipping full serialization of Keras layer <__main__.OneStep object at 0x7f8ef0662740>, because it is not built.\n",
            "WARNING:tensorflow:Model's `__init__()` arguments contain non-serializable objects. Please implement a `get_config()` method in the subclassed Model for proper saving and loading. Defaulting to empty config.\n",
            "WARNING:tensorflow:Model's `__init__()` arguments contain non-serializable objects. Please implement a `get_config()` method in the subclassed Model for proper saving and loading. Defaulting to empty config.\n",
            "WARNING:absl:Found untraced functions such as gru_cell_layer_call_fn, gru_cell_layer_call_and_return_conditional_losses while saving (showing 2 of 2). These functions will not be directly callable after loading.\n"
          ]
        }
      ],
      "source": [
        "tf.saved_model.save(one_step_model, 'one_step')\n",
        "one_step_reloaded = tf.saved_model.load('one_step')"
      ]
    },
    {
      "cell_type": "code",
      "execution_count": 44,
      "metadata": {
        "id": "_Z9bb_wX6Uuu",
        "colab": {
          "base_uri": "https://localhost:8080/"
        },
        "outputId": "d9187844-b352-4125-ef90-d9a0bdcb76fa"
      },
      "outputs": [
        {
          "output_type": "stream",
          "name": "stdout",
          "text": [
            "ROMEO:\n",
            "Tut, when we saw, that you might peeply weeps,\n",
            "Being come to make a lordshipp'd of the list;\n",
            "Nor af\n"
          ]
        }
      ],
      "source": [
        "states = None\n",
        "next_char = tf.constant(['ROMEO:'])\n",
        "result = [next_char]\n",
        "\n",
        "for n in range(100):\n",
        "  next_char, states = one_step_reloaded.generate_one_step(next_char, states=states)\n",
        "  result.append(next_char)\n",
        "\n",
        "print(tf.strings.join(result)[0].numpy().decode(\"utf-8\"))"
      ]
    },
    {
      "cell_type": "markdown",
      "metadata": {
        "id": "Y4QwTjAM6A2O"
      },
      "source": [
        "## Advanced: Customized Training\n",
        "\n",
        "The above training procedure is simple, but does not give you much control.\n",
        "It uses teacher-forcing which prevents bad predictions from being fed back to the model, so the model never learns to recover from mistakes.\n",
        "\n",
        "So now that you've seen how to run the model manually next you'll implement the training loop. This gives a starting point if, for example, you want to implement _curriculum  learning_ to help stabilize the model's open-loop output.\n",
        "\n",
        "The most important part of a custom training loop is the train step function.\n",
        "\n",
        "Use `tf.GradientTape` to track the gradients.\n",
        "\n",
        "The basic procedure is:\n",
        "\n",
        "1. Execute the model and calculate the loss under a `tf.GradientTape`.\n",
        "2. Calculate the updates and apply them to the model using the optimizer."
      ]
    },
    {
      "cell_type": "code",
      "execution_count": 45,
      "metadata": {
        "id": "x0pZ101hjwW0"
      },
      "outputs": [],
      "source": [
        "class CustomTraining(MyModel):\n",
        "  @tf.function\n",
        "  def train_step(self, inputs):\n",
        "      inputs, labels = inputs\n",
        "      with tf.GradientTape() as tape:\n",
        "          predictions = self(inputs, training=True)\n",
        "          loss = self.loss(labels, predictions)\n",
        "      grads = tape.gradient(loss, model.trainable_variables)\n",
        "      self.optimizer.apply_gradients(zip(grads, model.trainable_variables))\n",
        "\n",
        "      return {'loss': loss}"
      ]
    },
    {
      "cell_type": "code",
      "execution_count": 46,
      "metadata": {
        "id": "XKyWiZ_Lj7w5"
      },
      "outputs": [],
      "source": [
        "model = CustomTraining(\n",
        "    vocab_size=len(ids_from_chars.get_vocabulary()),\n",
        "    embedding_dim=embedding_dim,\n",
        "    rnn_units=rnn_units)"
      ]
    },
    {
      "cell_type": "code",
      "execution_count": 47,
      "metadata": {
        "id": "U817KUm7knlm"
      },
      "outputs": [],
      "source": [
        "model.compile(optimizer = tf.keras.optimizers.Adam(),\n",
        "              loss=tf.keras.losses.SparseCategoricalCrossentropy(from_logits=True))"
      ]
    },
    {
      "cell_type": "code",
      "execution_count": 48,
      "metadata": {
        "id": "o694aoBPnEi9",
        "colab": {
          "base_uri": "https://localhost:8080/"
        },
        "outputId": "1f5db471-eeeb-41a1-dd3a-816d7c7eb4aa"
      },
      "outputs": [
        {
          "output_type": "stream",
          "name": "stdout",
          "text": [
            "172/172 [==============================] - 6s 13ms/step - loss: 2.7193\n"
          ]
        },
        {
          "output_type": "execute_result",
          "data": {
            "text/plain": [
              "<keras.callbacks.History at 0x7f8ea04efd30>"
            ]
          },
          "metadata": {},
          "execution_count": 48
        }
      ],
      "source": [
        "model.fit(dataset, epochs=1)"
      ]
    },
    {
      "cell_type": "markdown",
      "metadata": {
        "id": "W8nAtKHVoInR"
      },
      "source": [
        "custom training loop:"
      ]
    },
    {
      "cell_type": "code",
      "execution_count": 49,
      "metadata": {
        "id": "d4tSNwymzf-q",
        "colab": {
          "base_uri": "https://localhost:8080/"
        },
        "outputId": "f2bdeaf2-dce7-4462-abc3-f2399f56aa47"
      },
      "outputs": [
        {
          "output_type": "stream",
          "name": "stdout",
          "text": [
            "Epoch 1 Batch 0 Loss 2.1926\n",
            "Epoch 1 Batch 50 Loss 2.0627\n",
            "Epoch 1 Batch 100 Loss 1.9232\n",
            "Epoch 1 Batch 150 Loss 1.8374\n",
            "\n",
            "Epoch 1 Loss: 1.9880\n",
            "Time taken for 1 epoch 4.92 sec\n",
            "________________________________________________________________________________\n",
            "Epoch 2 Batch 0 Loss 1.8069\n",
            "Epoch 2 Batch 50 Loss 1.7416\n",
            "Epoch 2 Batch 100 Loss 1.6859\n",
            "Epoch 2 Batch 150 Loss 1.6247\n",
            "\n",
            "Epoch 2 Loss: 1.7052\n",
            "Time taken for 1 epoch 2.84 sec\n",
            "________________________________________________________________________________\n",
            "Epoch 3 Batch 0 Loss 1.6024\n",
            "Epoch 3 Batch 50 Loss 1.5343\n",
            "Epoch 3 Batch 100 Loss 1.5217\n",
            "Epoch 3 Batch 150 Loss 1.4825\n",
            "\n",
            "Epoch 3 Loss: 1.5440\n",
            "Time taken for 1 epoch 2.79 sec\n",
            "________________________________________________________________________________\n",
            "Epoch 4 Batch 0 Loss 1.4793\n",
            "Epoch 4 Batch 50 Loss 1.4048\n",
            "Epoch 4 Batch 100 Loss 1.4340\n",
            "Epoch 4 Batch 150 Loss 1.4105\n",
            "\n",
            "Epoch 4 Loss: 1.4463\n",
            "Time taken for 1 epoch 2.81 sec\n",
            "________________________________________________________________________________\n",
            "Epoch 5 Batch 0 Loss 1.3886\n",
            "Epoch 5 Batch 50 Loss 1.4298\n",
            "Epoch 5 Batch 100 Loss 1.3764\n",
            "Epoch 5 Batch 150 Loss 1.3701\n",
            "\n",
            "Epoch 5 Loss: 1.3799\n",
            "Time taken for 1 epoch 3.07 sec\n",
            "________________________________________________________________________________\n",
            "Epoch 6 Batch 0 Loss 1.2986\n",
            "Epoch 6 Batch 50 Loss 1.2985\n",
            "Epoch 6 Batch 100 Loss 1.3541\n",
            "Epoch 6 Batch 150 Loss 1.3315\n",
            "\n",
            "Epoch 6 Loss: 1.3274\n",
            "Time taken for 1 epoch 2.82 sec\n",
            "________________________________________________________________________________\n",
            "Epoch 7 Batch 0 Loss 1.2691\n",
            "Epoch 7 Batch 50 Loss 1.2312\n",
            "Epoch 7 Batch 100 Loss 1.3042\n",
            "Epoch 7 Batch 150 Loss 1.3079\n",
            "\n",
            "Epoch 7 Loss: 1.2830\n",
            "Time taken for 1 epoch 2.90 sec\n",
            "________________________________________________________________________________\n",
            "Epoch 8 Batch 0 Loss 1.2621\n",
            "Epoch 8 Batch 50 Loss 1.2706\n",
            "Epoch 8 Batch 100 Loss 1.2457\n",
            "Epoch 8 Batch 150 Loss 1.2291\n",
            "\n",
            "Epoch 8 Loss: 1.2418\n",
            "Time taken for 1 epoch 2.72 sec\n",
            "________________________________________________________________________________\n",
            "Epoch 9 Batch 0 Loss 1.1447\n",
            "Epoch 9 Batch 50 Loss 1.2228\n",
            "Epoch 9 Batch 100 Loss 1.2192\n",
            "Epoch 9 Batch 150 Loss 1.1761\n",
            "\n",
            "Epoch 9 Loss: 1.2018\n",
            "Time taken for 1 epoch 2.78 sec\n",
            "________________________________________________________________________________\n",
            "Epoch 10 Batch 0 Loss 1.1223\n",
            "Epoch 10 Batch 50 Loss 1.1589\n",
            "Epoch 10 Batch 100 Loss 1.1997\n",
            "Epoch 10 Batch 150 Loss 1.1562\n",
            "\n",
            "Epoch 10 Loss: 1.1624\n",
            "Time taken for 1 epoch 3.17 sec\n",
            "________________________________________________________________________________\n",
            "Epoch 11 Batch 0 Loss 1.0800\n",
            "Epoch 11 Batch 50 Loss 1.1043\n",
            "Epoch 11 Batch 100 Loss 1.1296\n",
            "Epoch 11 Batch 150 Loss 1.1689\n",
            "\n",
            "Epoch 11 Loss: 1.1216\n",
            "Time taken for 1 epoch 2.70 sec\n",
            "________________________________________________________________________________\n",
            "Epoch 12 Batch 0 Loss 1.0578\n",
            "Epoch 12 Batch 50 Loss 1.0691\n",
            "Epoch 12 Batch 100 Loss 1.0968\n",
            "Epoch 12 Batch 150 Loss 1.0879\n",
            "\n",
            "Epoch 12 Loss: 1.0772\n",
            "Time taken for 1 epoch 2.78 sec\n",
            "________________________________________________________________________________\n",
            "Epoch 13 Batch 0 Loss 1.0093\n",
            "Epoch 13 Batch 50 Loss 1.0398\n",
            "Epoch 13 Batch 100 Loss 1.0481\n",
            "Epoch 13 Batch 150 Loss 1.0388\n",
            "\n",
            "Epoch 13 Loss: 1.0316\n",
            "Time taken for 1 epoch 3.00 sec\n",
            "________________________________________________________________________________\n",
            "Epoch 14 Batch 0 Loss 0.9497\n",
            "Epoch 14 Batch 50 Loss 0.9533\n",
            "Epoch 14 Batch 100 Loss 0.9605\n",
            "Epoch 14 Batch 150 Loss 1.0135\n",
            "\n",
            "Epoch 14 Loss: 0.9836\n",
            "Time taken for 1 epoch 2.72 sec\n",
            "________________________________________________________________________________\n",
            "Epoch 15 Batch 0 Loss 0.8914\n",
            "Epoch 15 Batch 50 Loss 0.9137\n",
            "Epoch 15 Batch 100 Loss 0.9656\n",
            "Epoch 15 Batch 150 Loss 0.9337\n",
            "\n",
            "Epoch 15 Loss: 0.9323\n",
            "Time taken for 1 epoch 2.86 sec\n",
            "________________________________________________________________________________\n",
            "Epoch 16 Batch 0 Loss 0.8471\n",
            "Epoch 16 Batch 50 Loss 0.8459\n",
            "Epoch 16 Batch 100 Loss 0.8834\n",
            "Epoch 16 Batch 150 Loss 0.9082\n",
            "\n",
            "Epoch 16 Loss: 0.8795\n",
            "Time taken for 1 epoch 2.76 sec\n",
            "________________________________________________________________________________\n",
            "Epoch 17 Batch 0 Loss 0.7895\n",
            "Epoch 17 Batch 50 Loss 0.7998\n",
            "Epoch 17 Batch 100 Loss 0.8388\n",
            "Epoch 17 Batch 150 Loss 0.8543\n",
            "\n",
            "Epoch 17 Loss: 0.8269\n",
            "Time taken for 1 epoch 2.80 sec\n",
            "________________________________________________________________________________\n",
            "Epoch 18 Batch 0 Loss 0.7253\n",
            "Epoch 18 Batch 50 Loss 0.7511\n",
            "Epoch 18 Batch 100 Loss 0.7935\n",
            "Epoch 18 Batch 150 Loss 0.8156\n",
            "\n",
            "Epoch 18 Loss: 0.7739\n",
            "Time taken for 1 epoch 2.87 sec\n",
            "________________________________________________________________________________\n",
            "Epoch 19 Batch 0 Loss 0.6657\n",
            "Epoch 19 Batch 50 Loss 0.7076\n",
            "Epoch 19 Batch 100 Loss 0.7549\n",
            "Epoch 19 Batch 150 Loss 0.7772\n",
            "\n",
            "Epoch 19 Loss: 0.7264\n",
            "Time taken for 1 epoch 2.71 sec\n",
            "________________________________________________________________________________\n",
            "Epoch 20 Batch 0 Loss 0.6272\n",
            "Epoch 20 Batch 50 Loss 0.6432\n",
            "Epoch 20 Batch 100 Loss 0.7001\n",
            "Epoch 20 Batch 150 Loss 0.7301\n",
            "\n",
            "Epoch 20 Loss: 0.6815\n",
            "Time taken for 1 epoch 2.84 sec\n",
            "________________________________________________________________________________\n",
            "Epoch 21 Batch 0 Loss 0.6000\n",
            "Epoch 21 Batch 50 Loss 0.6092\n",
            "Epoch 21 Batch 100 Loss 0.6476\n",
            "Epoch 21 Batch 150 Loss 0.6825\n",
            "\n",
            "Epoch 21 Loss: 0.6407\n",
            "Time taken for 1 epoch 3.00 sec\n",
            "________________________________________________________________________________\n",
            "Epoch 22 Batch 0 Loss 0.5648\n",
            "Epoch 22 Batch 50 Loss 0.5673\n",
            "Epoch 22 Batch 100 Loss 0.6157\n",
            "Epoch 22 Batch 150 Loss 0.6564\n",
            "\n",
            "Epoch 22 Loss: 0.6046\n",
            "Time taken for 1 epoch 2.88 sec\n",
            "________________________________________________________________________________\n",
            "Epoch 23 Batch 0 Loss 0.5322\n",
            "Epoch 23 Batch 50 Loss 0.5396\n",
            "Epoch 23 Batch 100 Loss 0.5768\n",
            "Epoch 23 Batch 150 Loss 0.6200\n",
            "\n",
            "Epoch 23 Loss: 0.5750\n",
            "Time taken for 1 epoch 2.85 sec\n",
            "________________________________________________________________________________\n",
            "Epoch 24 Batch 0 Loss 0.4903\n",
            "Epoch 24 Batch 50 Loss 0.5205\n",
            "Epoch 24 Batch 100 Loss 0.5531\n",
            "Epoch 24 Batch 150 Loss 0.5939\n",
            "\n",
            "Epoch 24 Loss: 0.5494\n",
            "Time taken for 1 epoch 2.80 sec\n",
            "________________________________________________________________________________\n",
            "Epoch 25 Batch 0 Loss 0.4757\n",
            "Epoch 25 Batch 50 Loss 0.4854\n",
            "Epoch 25 Batch 100 Loss 0.5136\n",
            "Epoch 25 Batch 150 Loss 0.5593\n",
            "\n",
            "Epoch 25 Loss: 0.5266\n",
            "Time taken for 1 epoch 2.89 sec\n",
            "________________________________________________________________________________\n",
            "Epoch 26 Batch 0 Loss 0.4600\n",
            "Epoch 26 Batch 50 Loss 0.4773\n",
            "Epoch 26 Batch 100 Loss 0.5132\n",
            "Epoch 26 Batch 150 Loss 0.5753\n",
            "\n",
            "Epoch 26 Loss: 0.5106\n",
            "Time taken for 1 epoch 2.70 sec\n",
            "________________________________________________________________________________\n",
            "Epoch 27 Batch 0 Loss 0.4541\n",
            "Epoch 27 Batch 50 Loss 0.4751\n",
            "Epoch 27 Batch 100 Loss 0.4992\n",
            "Epoch 27 Batch 150 Loss 0.5549\n",
            "\n",
            "Epoch 27 Loss: 0.4965\n",
            "Time taken for 1 epoch 2.70 sec\n",
            "________________________________________________________________________________\n",
            "Epoch 28 Batch 0 Loss 0.4349\n",
            "Epoch 28 Batch 50 Loss 0.4631\n",
            "Epoch 28 Batch 100 Loss 0.4884\n",
            "Epoch 28 Batch 150 Loss 0.5218\n",
            "\n",
            "Epoch 28 Loss: 0.4822\n",
            "Time taken for 1 epoch 2.70 sec\n",
            "________________________________________________________________________________\n",
            "Epoch 29 Batch 0 Loss 0.4299\n",
            "Epoch 29 Batch 50 Loss 0.4522\n",
            "Epoch 29 Batch 100 Loss 0.4812\n",
            "Epoch 29 Batch 150 Loss 0.5173\n",
            "\n",
            "Epoch 29 Loss: 0.4710\n",
            "Time taken for 1 epoch 2.82 sec\n",
            "________________________________________________________________________________\n",
            "Epoch 30 Batch 0 Loss 0.4065\n",
            "Epoch 30 Batch 50 Loss 0.4255\n",
            "Epoch 30 Batch 100 Loss 0.4827\n",
            "Epoch 30 Batch 150 Loss 0.5060\n",
            "\n",
            "Epoch 30 Loss: 0.4591\n",
            "Time taken for 1 epoch 2.94 sec\n",
            "________________________________________________________________________________\n"
          ]
        }
      ],
      "source": [
        "EPOCHS = 30\n",
        "\n",
        "mean = tf.metrics.Mean()\n",
        "\n",
        "for epoch in range(EPOCHS):\n",
        "    start = time.time()\n",
        "\n",
        "    mean.reset_states()\n",
        "    for (batch_n, (inp, target)) in enumerate(dataset):\n",
        "        logs = model.train_step([inp, target])\n",
        "        mean.update_state(logs['loss'])\n",
        "\n",
        "        if batch_n % 50 == 0:\n",
        "            template = f\"Epoch {epoch+1} Batch {batch_n} Loss {logs['loss']:.4f}\"\n",
        "            print(template)\n",
        "\n",
        "    # saving (checkpoint) the model every 5 epochs\n",
        "    if (epoch + 1) % 5 == 0:\n",
        "        model.save_weights(checkpoint_prefix.format(epoch=epoch))\n",
        "\n",
        "    print()\n",
        "    print(f'Epoch {epoch+1} Loss: {mean.result().numpy():.4f}')\n",
        "    print(f'Time taken for 1 epoch {time.time() - start:.2f} sec')\n",
        "    print(\"_\"*80)\n",
        "\n",
        "model.save_weights(checkpoint_prefix.format(epoch=epoch))"
      ]
    }
  ],
  "metadata": {
    "accelerator": "GPU",
    "colab": {
      "provenance": [],
      "gpuType": "A100"
    },
    "kernelspec": {
      "display_name": "Python 3",
      "name": "python3"
    },
    "gpuClass": "standard"
  },
  "nbformat": 4,
  "nbformat_minor": 0
}